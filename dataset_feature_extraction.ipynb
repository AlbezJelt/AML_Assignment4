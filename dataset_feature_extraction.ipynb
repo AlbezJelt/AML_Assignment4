{
 "metadata": {
  "language_info": {
   "codemirror_mode": {
    "name": "ipython",
    "version": 3
   },
   "file_extension": ".py",
   "mimetype": "text/x-python",
   "name": "python",
   "nbconvert_exporter": "python",
   "pygments_lexer": "ipython3",
   "version": "3.8.5-final"
  },
  "orig_nbformat": 2,
  "kernelspec": {
   "name": "python3",
   "display_name": "Python 3.8.5 64-bit ('AML_Assignment4': pipenv)",
   "metadata": {
    "interpreter": {
     "hash": "91c22b36c67837e6b74ced973920f404ca91cf29e050f8dae6e1b140f061535b"
    }
   }
  }
 },
 "nbformat": 4,
 "nbformat_minor": 2,
 "cells": [
  {
   "source": [
    "# Extract the dataset"
   ],
   "cell_type": "markdown",
   "metadata": {}
  },
  {
   "cell_type": "code",
   "execution_count": 2,
   "metadata": {},
   "outputs": [],
   "source": [
    "import zipfile\n",
    "import os\n",
    "import shutil\n",
    "\n",
    "def extract_images(path):\n",
    "    for root, subdir, files in os.walk(img_path):\n",
    "        for f in files:\n",
    "            if '.jpg' in f:\n",
    "                return False\n",
    "    return True\n",
    "\n",
    "\n",
    "base_path = os.getcwd()\n",
    "img_path = f\"{base_path}/data/intel_image_classification\"\n",
    "\n",
    "if extract_images(img_path):\n",
    "    with zipfile.ZipFile(f\"{base_path}/data/archive.zip\", 'r') as zip_ref:\n",
    "        zip_ref.extractall(img_path)\n",
    "        # We are only interested on model performance, so no prediction data is used\n",
    "        shutil.rmtree(f\"{img_path}/seg_pred\")"
   ]
  },
  {
   "source": [
    "# Load images"
   ],
   "cell_type": "markdown",
   "metadata": {}
  },
  {
   "cell_type": "code",
   "execution_count": 10,
   "metadata": {
    "tags": []
   },
   "outputs": [],
   "source": [
    "from tensorflow import keras\n",
    "import numpy as np\n",
    "from sklearn import preprocessing\n",
    "from tensorflow.keras.preprocessing import image\n",
    "\n",
    "def prepare_targets(y_train, y_test):\n",
    "\tle = preprocessing.LabelEncoder()\n",
    "\tle.fit(y_train)\n",
    "\ty_train_enc = le.transform(y_train)\n",
    "\ty_test_enc = le.transform(y_test)\n",
    "\treturn y_train_enc, y_test_enc\n",
    "\n",
    "def import_data(path):\n",
    "    x_train_list, y_train_list, x_test_list, y_test_list = [], [], [], []\n",
    "\n",
    "    for root, subdir, files in os.walk(img_path):\n",
    "        if '/seg_train/seg_train/' in root:\n",
    "            for f in files:\n",
    "                file_path = os.path.normpath(os.path.join(root, f))\n",
    "                label = file_path.split(os.sep)[len(file_path.split(os.sep)) - 2]\n",
    "                x_train_list.append(\n",
    "                    image.img_to_array(\n",
    "                        image.load_img(\n",
    "                            file_path, \n",
    "                            target_size=(224, 224)\n",
    "                            )\n",
    "                        )\n",
    "                    )\n",
    "                y_train_list.append(label)\n",
    "        if '/seg_test/seg_test/' in root:\n",
    "            for f in files:\n",
    "                file_path = os.path.normpath(os.path.join(root, f))\n",
    "                label = file_path.split(os.sep)[len(file_path.split(os.sep)) - 2]\n",
    "                x_test_list.append(\n",
    "                    image.img_to_array(\n",
    "                        image.load_img(\n",
    "                            file_path, \n",
    "                            target_size=(224, 224)\n",
    "                            )\n",
    "                        )\n",
    "                    )\n",
    "                y_test_list.append(label)\n",
    "\n",
    "    y_train, y_test = prepare_targets(\n",
    "        np.array(y_train_list),\n",
    "        np.array(y_test_list)\n",
    "        )\n",
    "\n",
    "    return (np.concatenate(x_train_list, axis=0), y_train), (np.concatenate(x_test_list, axis=0), y_test)"
   ]
  },
  {
   "cell_type": "code",
   "execution_count": 9,
   "metadata": {},
   "outputs": [
    {
     "output_type": "error",
     "ename": "ValueError",
     "evalue": "zero-dimensional arrays cannot be concatenated",
     "traceback": [
      "\u001b[0;31m---------------------------------------------------------------------------\u001b[0m",
      "\u001b[0;31mValueError\u001b[0m                                Traceback (most recent call last)",
      "\u001b[0;32m<ipython-input-9-72349f76edd1>\u001b[0m in \u001b[0;36m<module>\u001b[0;34m\u001b[0m\n\u001b[0;32m----> 1\u001b[0;31m \u001b[0;34m(\u001b[0m\u001b[0mx_train\u001b[0m\u001b[0;34m,\u001b[0m \u001b[0my_train\u001b[0m\u001b[0;34m)\u001b[0m\u001b[0;34m,\u001b[0m \u001b[0;34m(\u001b[0m\u001b[0mx_test\u001b[0m\u001b[0;34m,\u001b[0m \u001b[0my_test\u001b[0m\u001b[0;34m)\u001b[0m \u001b[0;34m=\u001b[0m \u001b[0mimport_data\u001b[0m\u001b[0;34m(\u001b[0m\u001b[0mimg_path\u001b[0m\u001b[0;34m)\u001b[0m\u001b[0;34m\u001b[0m\u001b[0;34m\u001b[0m\u001b[0m\n\u001b[0m",
      "\u001b[0;32m<ipython-input-8-0014fc938051>\u001b[0m in \u001b[0;36mimport_data\u001b[0;34m(path)\u001b[0m\n\u001b[1;32m     43\u001b[0m \u001b[0;34m\u001b[0m\u001b[0m\n\u001b[1;32m     44\u001b[0m     y_train, y_test = prepare_targets(\n\u001b[0;32m---> 45\u001b[0;31m         \u001b[0mnp\u001b[0m\u001b[0;34m.\u001b[0m\u001b[0mconcatenate\u001b[0m\u001b[0;34m(\u001b[0m\u001b[0my_train_list\u001b[0m\u001b[0;34m,\u001b[0m \u001b[0maxis\u001b[0m\u001b[0;34m=\u001b[0m\u001b[0;36m0\u001b[0m\u001b[0;34m)\u001b[0m\u001b[0;34m,\u001b[0m\u001b[0;34m\u001b[0m\u001b[0;34m\u001b[0m\u001b[0m\n\u001b[0m\u001b[1;32m     46\u001b[0m         \u001b[0mnp\u001b[0m\u001b[0;34m.\u001b[0m\u001b[0mconcatenate\u001b[0m\u001b[0;34m(\u001b[0m\u001b[0my_test_list\u001b[0m\u001b[0;34m,\u001b[0m \u001b[0maxis\u001b[0m\u001b[0;34m=\u001b[0m\u001b[0;36m0\u001b[0m\u001b[0;34m)\u001b[0m\u001b[0;34m\u001b[0m\u001b[0;34m\u001b[0m\u001b[0m\n\u001b[1;32m     47\u001b[0m         )\n",
      "\u001b[0;32m<__array_function__ internals>\u001b[0m in \u001b[0;36mconcatenate\u001b[0;34m(*args, **kwargs)\u001b[0m\n",
      "\u001b[0;31mValueError\u001b[0m: zero-dimensional arrays cannot be concatenated"
     ]
    }
   ],
   "source": [
    "\n",
    "(x_train, y_train), (x_test, y_test) = import_data(img_path)"
   ]
  },
  {
   "cell_type": "code",
   "execution_count": null,
   "metadata": {},
   "outputs": [],
   "source": []
  }
 ]
}